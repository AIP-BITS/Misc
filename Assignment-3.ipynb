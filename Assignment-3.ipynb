{
 "cells": [
  {
   "cell_type": "markdown",
   "id": "2276cf26",
   "metadata": {},
   "source": [
    "# SVM Classification Project\n",
    "\n",
    "Welcome to SVM Classification Project! Go ahead and just follow the directions below.\n",
    "\n",
    "classify tumors into malignant (cancer) or benign using features obtained from several cell images.\n",
    "\n",
    "Features are computed from a digitized image of a fine needle aspirate (FNA) of a breast mass. They describe characteristics of the cell nuclei present in the image."
   ]
  },
  {
   "cell_type": "markdown",
   "id": "e22150c5",
   "metadata": {},
   "source": [
    "# Import Libraries\n",
    "\n",
    "**Import pandas,seaborn, and the usual libraries.**"
   ]
  },
  {
   "cell_type": "code",
   "execution_count": 1,
   "id": "26531f9e",
   "metadata": {},
   "outputs": [],
   "source": [
    "import pandas as pd "
   ]
  },
  {
   "cell_type": "markdown",
   "id": "66034d4e",
   "metadata": {},
   "source": [
    "# Basic Modelling [Marks:1]"
   ]
  },
  {
   "cell_type": "markdown",
   "id": "5b42d698",
   "metadata": {},
   "source": [
    "**Run below cell to load the data**"
   ]
  },
  {
   "cell_type": "code",
   "execution_count": 4,
   "id": "e0a677ca",
   "metadata": {},
   "outputs": [],
   "source": [
    "data = pd.read_csv(\"https://raw.githubusercontent.com/AIP-BITS/BITS-DATA/main/cancer.csv\")"
   ]
  },
  {
   "cell_type": "markdown",
   "id": "daec4cc8",
   "metadata": {},
   "source": [
    "## Null Check"
   ]
  },
  {
   "cell_type": "code",
   "execution_count": null,
   "id": "c3f2e222",
   "metadata": {},
   "outputs": [],
   "source": []
  },
  {
   "cell_type": "markdown",
   "id": "b6966ad8",
   "metadata": {},
   "source": [
    "## Visualize distribution of target classes"
   ]
  },
  {
   "cell_type": "code",
   "execution_count": null,
   "id": "cf39cdc4",
   "metadata": {},
   "outputs": [],
   "source": []
  },
  {
   "cell_type": "markdown",
   "id": "572035c0",
   "metadata": {},
   "source": [
    "## Frame training and testing data"
   ]
  },
  {
   "cell_type": "code",
   "execution_count": null,
   "id": "229d583d",
   "metadata": {},
   "outputs": [],
   "source": []
  },
  {
   "cell_type": "markdown",
   "id": "1cb38eb9",
   "metadata": {},
   "source": [
    "## Fit a default SVM Classifier"
   ]
  },
  {
   "cell_type": "code",
   "execution_count": null,
   "id": "ef20ee36",
   "metadata": {},
   "outputs": [],
   "source": []
  },
  {
   "cell_type": "markdown",
   "id": "683813b6",
   "metadata": {},
   "source": [
    "## Get the classification report"
   ]
  },
  {
   "cell_type": "code",
   "execution_count": null,
   "id": "e7ffd089",
   "metadata": {},
   "outputs": [],
   "source": []
  },
  {
   "cell_type": "markdown",
   "id": "5d4472b8",
   "metadata": {},
   "source": [
    "## Plot confusion Metric"
   ]
  },
  {
   "cell_type": "code",
   "execution_count": null,
   "id": "20014032",
   "metadata": {},
   "outputs": [],
   "source": []
  },
  {
   "cell_type": "markdown",
   "id": "6f17dac7",
   "metadata": {},
   "source": [
    "# Fine Tune / Search for best SVM Model [Marks:7]"
   ]
  },
  {
   "cell_type": "markdown",
   "id": "9d88be9e",
   "metadata": {},
   "source": [
    "## Normalize and standardize the data"
   ]
  },
  {
   "cell_type": "code",
   "execution_count": null,
   "id": "855e5740",
   "metadata": {},
   "outputs": [],
   "source": []
  },
  {
   "cell_type": "markdown",
   "id": "abff35d3",
   "metadata": {},
   "source": [
    "## Train SVM classifier for various parameters listed below and store the results (Accuracy, precison, recall,training time and testing time) for all the combinations in a dataframe\n",
    "\n",
    "1. 'C': [0.1, 1, 10, 100]\n",
    "2. 'gamma': [1, 0.1, 0.01, 0.001]\n",
    "3. 'kernel': ['linear','rbf']"
   ]
  },
  {
   "cell_type": "code",
   "execution_count": null,
   "id": "424d98aa",
   "metadata": {},
   "outputs": [],
   "source": []
  },
  {
   "cell_type": "markdown",
   "id": "f0c7101b",
   "metadata": {},
   "source": [
    "# Final Model [Marks:1]"
   ]
  },
  {
   "cell_type": "markdown",
   "id": "82b67ed9",
   "metadata": {},
   "source": [
    "## A model needs to be selected that gives the best recall and reasonable precision and F1 Score and the fastest prediction time. \n",
    "\n",
    "**Select the parameters and retrain the final model and plot its confusion matrix**"
   ]
  },
  {
   "cell_type": "code",
   "execution_count": null,
   "id": "449cbd50",
   "metadata": {},
   "outputs": [],
   "source": []
  }
 ],
 "metadata": {
  "kernelspec": {
   "display_name": "Python 3",
   "language": "python",
   "name": "python3"
  },
  "language_info": {
   "codemirror_mode": {
    "name": "ipython",
    "version": 3
   },
   "file_extension": ".py",
   "mimetype": "text/x-python",
   "name": "python",
   "nbconvert_exporter": "python",
   "pygments_lexer": "ipython3",
   "version": "3.7.0"
  }
 },
 "nbformat": 4,
 "nbformat_minor": 5
}
