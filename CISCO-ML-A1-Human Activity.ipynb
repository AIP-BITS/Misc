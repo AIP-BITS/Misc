{
 "cells": [
  {
   "cell_type": "markdown",
   "id": "d7d7f1d8",
   "metadata": {},
   "source": [
    "# NB and Logistic Regression Project \n",
    "\n",
    "Welcome to NB and Logistic Regression Project! Go ahead and follow the directions below."
   ]
  },
  {
   "cell_type": "markdown",
   "id": "7314d2dd",
   "metadata": {},
   "source": [
    "**Build a classification model which will recognise the activities through the mobile sensor like walking, walking_upstairs  ,walking_downstairs ,sitting  ,standing,lying.The topic Human Activity recognition is in research and has its own advantages like anomaly detection, for healthy diet maintenance fitness bands are used , measuring stress level ,for monitoring employees ,for heartbeat pulse rate etc. In this project we are going to focus on  the dataset which was carried out through experiments with a group of 30 volunteers wearing a smartphone.The experiments have been video-recorded to label the data manually.The  main motto is to use the dataset and work with the libraries like scikit learn and machine learning related libraries and algorithms while training.**"
   ]
  },
  {
   "cell_type": "markdown",
   "id": "ec6cd280",
   "metadata": {},
   "source": [
    "# <font color='red'>Download and submit only HTML file</font>"
   ]
  },
  {
   "cell_type": "markdown",
   "id": "fd98b33b",
   "metadata": {
    "heading_collapsed": true
   },
   "source": [
    "# Import Libraries\n",
    "**Import pandas,seaborn, and the usual libraries.**"
   ]
  },
  {
   "cell_type": "code",
   "execution_count": null,
   "id": "38b8134c",
   "metadata": {
    "hidden": true
   },
   "outputs": [],
   "source": []
  },
  {
   "cell_type": "code",
   "execution_count": 1,
   "id": "c548d823",
   "metadata": {
    "hidden": true
   },
   "outputs": [],
   "source": []
  },
  {
   "cell_type": "markdown",
   "id": "fa301959",
   "metadata": {
    "heading_collapsed": true
   },
   "source": [
    "# EDA and Basic Data Preprocessing and Preparation [Marks:2]\n",
    "**If trying auto EDA do it in a different notebook and only highlight important, interesting or unusual pattern that you noticed in the data**\n",
    "\n",
    "<font color='red'>Give justification for your choices and techniques used for every step</font>"
   ]
  },
  {
   "cell_type": "code",
   "execution_count": null,
   "id": "4c6b377c",
   "metadata": {
    "hidden": true
   },
   "outputs": [],
   "source": []
  },
  {
   "cell_type": "code",
   "execution_count": null,
   "id": "a3c8ea60",
   "metadata": {
    "hidden": true
   },
   "outputs": [],
   "source": []
  },
  {
   "cell_type": "markdown",
   "id": "d656cabb",
   "metadata": {
    "hidden": true
   },
   "source": [
    "## Null/Outlier Treatment"
   ]
  },
  {
   "cell_type": "code",
   "execution_count": null,
   "id": "78f99e57",
   "metadata": {
    "hidden": true
   },
   "outputs": [],
   "source": []
  },
  {
   "cell_type": "code",
   "execution_count": null,
   "id": "310ffd1f",
   "metadata": {
    "hidden": true
   },
   "outputs": [],
   "source": []
  },
  {
   "cell_type": "markdown",
   "id": "6fbd7ed4",
   "metadata": {
    "hidden": true
   },
   "source": [
    "## Remove non-Important Features"
   ]
  },
  {
   "cell_type": "code",
   "execution_count": null,
   "id": "a42d24f4",
   "metadata": {
    "hidden": true
   },
   "outputs": [],
   "source": []
  },
  {
   "cell_type": "code",
   "execution_count": null,
   "id": "00b4d256",
   "metadata": {
    "hidden": true
   },
   "outputs": [],
   "source": []
  },
  {
   "cell_type": "markdown",
   "id": "5d6bb07b",
   "metadata": {
    "hidden": true
   },
   "source": [
    "## Split Predictor and Target Varaibles"
   ]
  },
  {
   "cell_type": "code",
   "execution_count": null,
   "id": "583f1548",
   "metadata": {
    "hidden": true
   },
   "outputs": [],
   "source": []
  },
  {
   "cell_type": "code",
   "execution_count": null,
   "id": "ffb9b880",
   "metadata": {
    "hidden": true
   },
   "outputs": [],
   "source": []
  },
  {
   "cell_type": "markdown",
   "id": "42429766",
   "metadata": {
    "hidden": true
   },
   "source": [
    "## Split Training and Testing Data Set"
   ]
  },
  {
   "cell_type": "code",
   "execution_count": null,
   "id": "35eabe38",
   "metadata": {
    "hidden": true
   },
   "outputs": [],
   "source": []
  },
  {
   "cell_type": "code",
   "execution_count": null,
   "id": "979a50cc",
   "metadata": {
    "hidden": true
   },
   "outputs": [],
   "source": []
  },
  {
   "cell_type": "markdown",
   "id": "95e2e290",
   "metadata": {
    "hidden": true
   },
   "source": [
    "## Standardize the Variables"
   ]
  },
  {
   "cell_type": "code",
   "execution_count": null,
   "id": "7d7297e5",
   "metadata": {
    "hidden": true
   },
   "outputs": [],
   "source": []
  },
  {
   "cell_type": "code",
   "execution_count": null,
   "id": "c3294cc5",
   "metadata": {
    "hidden": true
   },
   "outputs": [],
   "source": []
  },
  {
   "cell_type": "markdown",
   "id": "c6bd7e08",
   "metadata": {
    "heading_collapsed": true
   },
   "source": [
    "# Train Model using different variations of NB [Marks:2+1]\n",
    "**Breifly describe & Justify why one of the variant performed better compared to others**"
   ]
  },
  {
   "cell_type": "code",
   "execution_count": null,
   "id": "c54e4440",
   "metadata": {
    "hidden": true
   },
   "outputs": [],
   "source": []
  },
  {
   "cell_type": "code",
   "execution_count": null,
   "id": "55dc8340",
   "metadata": {
    "hidden": true
   },
   "outputs": [],
   "source": []
  },
  {
   "cell_type": "markdown",
   "id": "bb30ac66",
   "metadata": {
    "heading_collapsed": true
   },
   "source": [
    "# Compare time and accuracy of different NB algos [Marks:0.5]"
   ]
  },
  {
   "cell_type": "code",
   "execution_count": null,
   "id": "8b6b10af",
   "metadata": {
    "hidden": true
   },
   "outputs": [],
   "source": []
  },
  {
   "cell_type": "code",
   "execution_count": null,
   "id": "aba4e591",
   "metadata": {
    "hidden": true
   },
   "outputs": [],
   "source": []
  },
  {
   "cell_type": "markdown",
   "id": "e89ad9dc",
   "metadata": {
    "heading_collapsed": true
   },
   "source": [
    "# Train Model with Logistic Regression with different solver and penalty [Marks:2+1]\n",
    "**Justify why one of the solver or penalty performed better compared to others**"
   ]
  },
  {
   "cell_type": "code",
   "execution_count": null,
   "id": "a276d9d5",
   "metadata": {
    "hidden": true
   },
   "outputs": [],
   "source": []
  },
  {
   "cell_type": "code",
   "execution_count": null,
   "id": "f392e501",
   "metadata": {
    "hidden": true
   },
   "outputs": [],
   "source": []
  },
  {
   "cell_type": "markdown",
   "id": "3d3c9589",
   "metadata": {
    "heading_collapsed": true
   },
   "source": [
    "# Compare time and accuracy of different Logistic Regression algos [Marks:0.5]"
   ]
  },
  {
   "cell_type": "code",
   "execution_count": null,
   "id": "7a806305",
   "metadata": {
    "hidden": true
   },
   "outputs": [],
   "source": []
  },
  {
   "cell_type": "code",
   "execution_count": null,
   "id": "1160eab7",
   "metadata": {
    "hidden": true
   },
   "outputs": [],
   "source": []
  },
  {
   "cell_type": "markdown",
   "id": "8f36cb10",
   "metadata": {},
   "source": [
    "# Plot confusion Matrix for the final model selected [Marks:1]"
   ]
  },
  {
   "cell_type": "code",
   "execution_count": null,
   "id": "c372cc7b",
   "metadata": {},
   "outputs": [],
   "source": []
  },
  {
   "cell_type": "code",
   "execution_count": null,
   "id": "9184b59e",
   "metadata": {},
   "outputs": [],
   "source": []
  }
 ],
 "metadata": {
  "kernelspec": {
   "display_name": "Python 3",
   "language": "python",
   "name": "python3"
  },
  "language_info": {
   "codemirror_mode": {
    "name": "ipython",
    "version": 3
   },
   "file_extension": ".py",
   "mimetype": "text/x-python",
   "name": "python",
   "nbconvert_exporter": "python",
   "pygments_lexer": "ipython3",
   "version": "3.7.0"
  }
 },
 "nbformat": 4,
 "nbformat_minor": 5
}
